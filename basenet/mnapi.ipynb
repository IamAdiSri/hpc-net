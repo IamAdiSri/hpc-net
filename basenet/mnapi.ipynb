{
 "cells": [
  {
   "cell_type": "code",
   "execution_count": 1,
   "metadata": {},
   "outputs": [],
   "source": [
    "from mininet.topo import Topo\n",
    "from mininet.net import Mininet\n",
    "from mininet.cli import CLI\n",
    "# from mininet.log import setLogLevel\n",
    "\n",
    "# setLogLevel('info')"
   ]
  },
  {
   "cell_type": "code",
   "execution_count": 2,
   "metadata": {},
   "outputs": [
    {
     "name": "stderr",
     "output_type": "stream",
     "text": [
      "*** Mininet must run as root.\n"
     ]
    },
    {
     "ename": "SystemExit",
     "evalue": "1",
     "output_type": "error",
     "traceback": [
      "An exception has occurred, use %tb to see the full traceback.\n",
      "\u001b[0;31mSystemExit\u001b[0m\u001b[0;31m:\u001b[0m 1\n"
     ]
    },
    {
     "name": "stderr",
     "output_type": "stream",
     "text": [
      "/home/adisri/miniconda3/envs/ethairnet/lib/python3.12/site-packages/IPython/core/interactiveshell.py:3561: UserWarning: To exit: use 'exit', 'quit', or Ctrl-D.\n",
      "  warn(\"To exit: use 'exit', 'quit', or Ctrl-D.\", stacklevel=1)\n"
     ]
    }
   ],
   "source": [
    "class BasicTopo(Topo):\n",
    "    def build(self):\n",
    "        self.addHost(\"srv0\")\n",
    "        self.addHost(\"srv1\")\n",
    "\n",
    "        self.addSwitch(\"tor0\")\n",
    "\n",
    "        self.addLink(\"srv0\", \"tor0\")\n",
    "        self.addLink(\"tor0\", \"srv1\")\n",
    "\n",
    "topo = BasicTopo()\n",
    "net = Mininet(topo=topo)\n",
    "net.start()\n",
    "\n",
    "    # You can run your tests or commands here\n",
    "    # Example: net.pingAll()"
   ]
  },
  {
   "cell_type": "code",
   "execution_count": 3,
   "metadata": {},
   "outputs": [
    {
     "ename": "SystemExit",
     "evalue": "1",
     "output_type": "error",
     "traceback": [
      "\u001b[0;31m---------------------------------------------------------------------------\u001b[0m",
      "\u001b[0;31mSystemExit\u001b[0m                                Traceback (most recent call last)",
      "Cell \u001b[0;32mIn[2], line 12\u001b[0m\n\u001b[1;32m      9\u001b[0m         \u001b[38;5;28mself\u001b[39m\u001b[38;5;241m.\u001b[39maddLink(\u001b[38;5;124m\"\u001b[39m\u001b[38;5;124mtor0\u001b[39m\u001b[38;5;124m\"\u001b[39m, \u001b[38;5;124m\"\u001b[39m\u001b[38;5;124msrv1\u001b[39m\u001b[38;5;124m\"\u001b[39m)\n\u001b[1;32m     11\u001b[0m topo \u001b[38;5;241m=\u001b[39m BasicTopo()\n\u001b[0;32m---> 12\u001b[0m net \u001b[38;5;241m=\u001b[39m \u001b[43mMininet\u001b[49m\u001b[43m(\u001b[49m\u001b[43mtopo\u001b[49m\u001b[38;5;241;43m=\u001b[39;49m\u001b[43mtopo\u001b[49m\u001b[43m)\u001b[49m\n\u001b[1;32m     13\u001b[0m net\u001b[38;5;241m.\u001b[39mstart()\n\u001b[1;32m     15\u001b[0m     \u001b[38;5;66;03m# You can run your tests or commands here\u001b[39;00m\n\u001b[1;32m     16\u001b[0m     \u001b[38;5;66;03m# Example: net.pingAll()\u001b[39;00m\n",
      "File \u001b[0;32m~/miniconda3/envs/ethairnet/lib/python3.12/site-packages/mininet/net.py:174\u001b[0m, in \u001b[0;36mMininet.__init__\u001b[0;34m(self, topo, switch, host, controller, link, intf, build, xterms, cleanup, ipBase, inNamespace, autoSetMacs, autoStaticArp, autoPinCpus, listenPort, waitConnected)\u001b[0m\n\u001b[1;32m    170\u001b[0m \u001b[38;5;28mself\u001b[39m\u001b[38;5;241m.\u001b[39mnameToNode \u001b[38;5;241m=\u001b[39m {}  \u001b[38;5;66;03m# name to Node (Host/Switch) objects\u001b[39;00m\n\u001b[1;32m    172\u001b[0m \u001b[38;5;28mself\u001b[39m\u001b[38;5;241m.\u001b[39mterms \u001b[38;5;241m=\u001b[39m []  \u001b[38;5;66;03m# list of spawned xterm processes\u001b[39;00m\n\u001b[0;32m--> 174\u001b[0m \u001b[43mMininet\u001b[49m\u001b[38;5;241;43m.\u001b[39;49m\u001b[43minit\u001b[49m\u001b[43m(\u001b[49m\u001b[43m)\u001b[49m  \u001b[38;5;66;03m# Initialize Mininet if necessary\u001b[39;00m\n\u001b[1;32m    176\u001b[0m \u001b[38;5;28mself\u001b[39m\u001b[38;5;241m.\u001b[39mbuilt \u001b[38;5;241m=\u001b[39m \u001b[38;5;28;01mFalse\u001b[39;00m\n\u001b[1;32m    177\u001b[0m \u001b[38;5;28;01mif\u001b[39;00m topo \u001b[38;5;129;01mand\u001b[39;00m build:\n",
      "File \u001b[0;32m~/miniconda3/envs/ethairnet/lib/python3.12/site-packages/mininet/net.py:950\u001b[0m, in \u001b[0;36mMininet.init\u001b[0;34m(cls)\u001b[0m\n\u001b[1;32m    948\u001b[0m \u001b[38;5;28;01mif\u001b[39;00m \u001b[38;5;28mcls\u001b[39m\u001b[38;5;241m.\u001b[39minited:\n\u001b[1;32m    949\u001b[0m     \u001b[38;5;28;01mreturn\u001b[39;00m\n\u001b[0;32m--> 950\u001b[0m \u001b[43mensureRoot\u001b[49m\u001b[43m(\u001b[49m\u001b[43m)\u001b[49m\n\u001b[1;32m    951\u001b[0m fixLimits()\n\u001b[1;32m    952\u001b[0m \u001b[38;5;28mcls\u001b[39m\u001b[38;5;241m.\u001b[39minited \u001b[38;5;241m=\u001b[39m \u001b[38;5;28;01mTrue\u001b[39;00m\n",
      "File \u001b[0;32m~/miniconda3/envs/ethairnet/lib/python3.12/site-packages/mininet/util.py:691\u001b[0m, in \u001b[0;36mensureRoot\u001b[0;34m()\u001b[0m\n\u001b[1;32m    689\u001b[0m \u001b[38;5;28;01mif\u001b[39;00m os\u001b[38;5;241m.\u001b[39mgetuid() \u001b[38;5;241m!=\u001b[39m \u001b[38;5;241m0\u001b[39m:\n\u001b[1;32m    690\u001b[0m     error( \u001b[38;5;124m'\u001b[39m\u001b[38;5;124m*** Mininet must run as root.\u001b[39m\u001b[38;5;130;01m\\n\u001b[39;00m\u001b[38;5;124m'\u001b[39m )\n\u001b[0;32m--> 691\u001b[0m     \u001b[43mexit\u001b[49m\u001b[43m(\u001b[49m\u001b[43m \u001b[49m\u001b[38;5;241;43m1\u001b[39;49m\u001b[43m \u001b[49m\u001b[43m)\u001b[49m\n",
      "\u001b[0;31mSystemExit\u001b[0m: 1"
     ]
    }
   ],
   "source": [
    "%tb"
   ]
  },
  {
   "cell_type": "code",
   "execution_count": 4,
   "metadata": {},
   "outputs": [
    {
     "ename": "NameError",
     "evalue": "name 'net' is not defined",
     "output_type": "error",
     "traceback": [
      "\u001b[0;31m---------------------------------------------------------------------------\u001b[0m",
      "\u001b[0;31mNameError\u001b[0m                                 Traceback (most recent call last)",
      "Cell \u001b[0;32mIn[4], line 2\u001b[0m\n\u001b[1;32m      1\u001b[0m \u001b[38;5;66;03m# CLI(net)\u001b[39;00m\n\u001b[0;32m----> 2\u001b[0m \u001b[43mnet\u001b[49m\u001b[38;5;241m.\u001b[39mstop()\n",
      "\u001b[0;31mNameError\u001b[0m: name 'net' is not defined"
     ]
    }
   ],
   "source": [
    "# CLI(net)\n",
    "net.stop()"
   ]
  },
  {
   "cell_type": "code",
   "execution_count": null,
   "metadata": {},
   "outputs": [],
   "source": []
  }
 ],
 "metadata": {
  "kernelspec": {
   "display_name": "ethairnet",
   "language": "python",
   "name": "python3"
  },
  "language_info": {
   "codemirror_mode": {
    "name": "ipython",
    "version": 3
   },
   "file_extension": ".py",
   "mimetype": "text/x-python",
   "name": "python",
   "nbconvert_exporter": "python",
   "pygments_lexer": "ipython3",
   "version": "3.12.0"
  }
 },
 "nbformat": 4,
 "nbformat_minor": 2
}
